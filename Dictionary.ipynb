{
 "cells": [
  {
   "cell_type": "code",
   "execution_count": 4,
   "metadata": {},
   "outputs": [
    {
     "data": {
      "text/plain": [
       "{1: 'apple', 2: 'ball', 5: 'kite'}"
      ]
     },
     "execution_count": 4,
     "metadata": {},
     "output_type": "execute_result"
    }
   ],
   "source": [
    "d={}       #declaration of dictionary\n",
    "d[23]=\"sourav\"\n",
    "d[108]=\"krishna\"\n",
    "d={1:\"apple\",2:\"ball\"}\n",
    "d[5]=\"kite\"          #if not present it will update the value in dictionary\n",
    "d"
   ]
  },
  {
   "cell_type": "code",
   "execution_count": 5,
   "metadata": {},
   "outputs": [],
   "source": [
    "#in python keys are immutable \n",
    "#here key can be int ,float,tuple but not list"
   ]
  },
  {
   "cell_type": "code",
   "execution_count": 6,
   "metadata": {},
   "outputs": [
    {
     "name": "stdout",
     "output_type": "stream",
     "text": [
      "1:apple\n",
      "2:ball\n",
      "5:kite\n"
     ]
    }
   ],
   "source": [
    "#to iterate over a dictinary\n",
    "for i in d :\n",
    "    print(i,end=\":\")\n",
    "    print(d[i])\n",
    "    "
   ]
  },
  {
   "cell_type": "code",
   "execution_count": 7,
   "metadata": {},
   "outputs": [
    {
     "data": {
      "text/plain": [
       "{1: 'apple', 5: 'kite'}"
      ]
     },
     "execution_count": 7,
     "metadata": {},
     "output_type": "execute_result"
    }
   ],
   "source": [
    "#to delete a list\n",
    "del d[2]\n",
    "d"
   ]
  },
  {
   "cell_type": "code",
   "execution_count": 13,
   "metadata": {},
   "outputs": [
    {
     "name": "stdout",
     "output_type": "stream",
     "text": [
      "True\n",
      "1\n",
      "dict_keys([2])\n",
      "dict_values(['hare krishna'])\n",
      "False\n"
     ]
    }
   ],
   "source": [
    "d1={2:\"hare krishna\"}\n",
    "d2={2:\"hare krishna\"}\n",
    "print(d1==d2)    #can compare 2 dictionary\n",
    "print(len(d1))  #prints the lenght of the dictionary\n",
    "d1.clear() #removes everything from the dictionary\n",
    "print(d2.keys())\n",
    "print(d2.values())\n",
    "print(3 in d2)"
   ]
  },
  {
   "cell_type": "code",
   "execution_count": null,
   "metadata": {},
   "outputs": [],
   "source": []
  }
 ],
 "metadata": {
  "kernelspec": {
   "display_name": "Python 3",
   "language": "python",
   "name": "python3"
  },
  "language_info": {
   "codemirror_mode": {
    "name": "ipython",
    "version": 3
   },
   "file_extension": ".py",
   "mimetype": "text/x-python",
   "name": "python",
   "nbconvert_exporter": "python",
   "pygments_lexer": "ipython3",
   "version": "3.7.4"
  }
 },
 "nbformat": 4,
 "nbformat_minor": 2
}
