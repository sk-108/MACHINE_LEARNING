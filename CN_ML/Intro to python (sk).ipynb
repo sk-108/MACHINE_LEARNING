{
 "cells": [
  {
   "cell_type": "markdown",
   "metadata": {},
   "source": [
    "## Intro to python \n",
    "from today i am starting with machine learning hare krishna !"
   ]
  },
  {
   "cell_type": "code",
   "execution_count": 1,
   "metadata": {},
   "outputs": [
    {
     "name": "stdout",
     "output_type": "stream",
     "text": [
      "12 hare krihsna 108\n"
     ]
    }
   ],
   "source": [
    "# end = \" \" represents what the line should be ending with default is new line\n",
    "print(12,end=\" hare krihsna \")\n",
    "print(108)"
   ]
  },
  {
   "cell_type": "code",
   "execution_count": 2,
   "metadata": {},
   "outputs": [
    {
     "data": {
      "text/plain": [
       "10"
      ]
     },
     "execution_count": 2,
     "metadata": {},
     "output_type": "execute_result"
    }
   ],
   "source": [
    "#python will print the last line\n",
    "a = 10\n",
    "a"
   ]
  },
  {
   "cell_type": "code",
   "execution_count": 5,
   "metadata": {},
   "outputs": [
    {
     "name": "stdout",
     "output_type": "stream",
     "text": [
      "<class 'int'>\n",
      "<class 'float'>\n",
      "<class 'complex'>\n"
     ]
    }
   ],
   "source": [
    "#variables\n",
    "# in python no need to mention type it is dynamically typed language\n",
    "a=10\n",
    "print(type(a))\n",
    "a=12.55\n",
    "print(type(a))\n",
    "a=1+3j\n",
    "print(type(a))"
   ]
  },
  {
   "cell_type": "code",
   "execution_count": 7,
   "metadata": {},
   "outputs": [
    {
     "name": "stdout",
     "output_type": "stream",
     "text": [
      "200\n",
      "0.5\n",
      "0\n",
      "100000000000000000000\n",
      "10\n"
     ]
    }
   ],
   "source": [
    "# operators\n",
    "a=10\n",
    "b=20\n",
    "print(a*b)\n",
    "print(a/b)\n",
    "print(a//b)\n",
    "print(a**b)\n",
    "print(a%b)"
   ]
  },
  {
   "cell_type": "code",
   "execution_count": 14,
   "metadata": {},
   "outputs": [
    {
     "name": "stdout",
     "output_type": "stream",
     "text": [
      "abc\n",
      "3\n",
      "b\n",
      "hari bol\n"
     ]
    }
   ],
   "source": [
    "#strings\n",
    "a = \"abc\"\n",
    "print(a)\n",
    "# type(a)\n",
    "print(len(a))\n",
    "print(a[1])\n",
    "# a[1]='k'           in python string are immutable\n",
    "a=\"hari bol\"    # but we can assign new value to string\n",
    "print(a)\n",
    "# print(a+100)       in strings we cannot add string to int \n",
    "a='k'\n",
    "# type(a)          in python their are no characters"
   ]
  },
  {
   "cell_type": "code",
   "execution_count": 29,
   "metadata": {},
   "outputs": [
    {
     "name": "stdout",
     "output_type": "stream",
     "text": [
      "ABC\n",
      "Abc\n",
      "ABC\n",
      "abc\n",
      "   abc   \n",
      "abc\n",
      "True\n",
      "False\n",
      "hare krishna\n"
     ]
    }
   ],
   "source": [
    "a = \"Abc\"\n",
    "print(a.upper())  #return new object in uppercase doesn't make changes in original string\n",
    "print(a)\n",
    "a=a.upper()   #we can do this to reassign the uppercase value to original string \n",
    "print(a)\n",
    "print(a.lower())\n",
    "a = \"   abc   \"\n",
    "print(a)\n",
    "a= a.strip()      #remove space before and after the strings\n",
    "print(a)\n",
    "print(a.isalpha())  # check whether is made up of only alphabet\n",
    "print(a.isdigit())         # check whether is made up of only digits\n",
    "a = input()   #for user input by default string "
   ]
  },
  {
   "cell_type": "code",
   "execution_count": 32,
   "metadata": {},
   "outputs": [
    {
     "data": {
      "text/plain": [
       "'c'"
      ]
     },
     "execution_count": 32,
     "metadata": {},
     "output_type": "execute_result"
    }
   ],
   "source": [
    "#negative indexing\n",
    "s = \"abc\"\n",
    "# s[0]\n",
    "s[-1]"
   ]
  },
  {
   "cell_type": "code",
   "execution_count": 37,
   "metadata": {},
   "outputs": [
    {
     "name": "stdout",
     "output_type": "stream",
     "text": [
      "bcd\n",
      "efg\n",
      "abcde\n",
      "defgh\n",
      "abcdefgh\n"
     ]
    }
   ],
   "source": [
    "#string slicing\n",
    "s=\"abcdefgh\"\n",
    "print(s[1:4])    #will print form 1 to 3\n",
    "print(s[-4:-1])   #will print from -4 to -2\n",
    "print(s[:5])    #will print from start to 4\n",
    "print(s[3:])    #will print form 3 to end\n",
    "print(s[:])  "
   ]
  },
  {
   "cell_type": "code",
   "execution_count": 45,
   "metadata": {},
   "outputs": [
    {
     "name": "stdout",
     "output_type": "stream",
     "text": [
      "<class 'tuple'>\n",
      "2\n",
      "(1, 2, 'sourav', 1087.34)\n",
      "(2, 'sourav')\n"
     ]
    }
   ],
   "source": [
    "#Tuples\n",
    "a=(1,2,3)\n",
    "print(type(a))\n",
    "print(a[1])\n",
    "t = (1,2,\"sourav\",1087.34)             #can have multiple datatype\n",
    "print(t)\n",
    "print(t[1:3])              #slicing works in tuples\n",
    "# t[1]=3048        tuples are immutable\n"
   ]
  },
  {
   "cell_type": "code",
   "execution_count": 49,
   "metadata": {},
   "outputs": [
    {
     "name": "stdout",
     "output_type": "stream",
     "text": [
      "(1, 2, 3, 4)\n",
      "(1, 2, 1, 2, 1, 2)\n",
      "True\n",
      "False\n"
     ]
    }
   ],
   "source": [
    "#tuples operators\n",
    "t = (1,2)\n",
    "k = (3,4)\n",
    "c = t+k         #concat 2 tuples\n",
    "print(c)\n",
    "print(t*3)   #multiply tuple 3 times\n",
    "print(1 in t)   #check if presents or not\n",
    "print(10 in t)"
   ]
  },
  {
   "cell_type": "code",
   "execution_count": null,
   "metadata": {},
   "outputs": [],
   "source": []
  }
 ],
 "metadata": {
  "kernelspec": {
   "display_name": "Python 3",
   "language": "python",
   "name": "python3"
  },
  "language_info": {
   "codemirror_mode": {
    "name": "ipython",
    "version": 3
   },
   "file_extension": ".py",
   "mimetype": "text/x-python",
   "name": "python",
   "nbconvert_exporter": "python",
   "pygments_lexer": "ipython3",
   "version": "3.7.4"
  }
 },
 "nbformat": 4,
 "nbformat_minor": 2
}
