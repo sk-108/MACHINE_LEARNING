{
 "cells": [
  {
   "cell_type": "code",
   "execution_count": 13,
   "metadata": {},
   "outputs": [
    {
     "name": "stdout",
     "output_type": "stream",
     "text": [
      "enter the size pattern5\n",
      "        \n",
      "1      1\n",
      "12    21\n",
      "123  321\n",
      "12344321\n"
     ]
    }
   ],
   "source": [
    "x = int(input(\"enter the size pattern\"))\n",
    "for i in range(x) :\n",
    "    for j  in range(1,i+1) :\n",
    "        print((j),end=\"\")\n",
    "    for k in range(x-i-1) :\n",
    "        print(\" \",end=\"\")\n",
    "    for k in range(x-i-1) :\n",
    "        print(\" \",end=\"\")\n",
    "    for j in range(i,0,-1) :\n",
    "        print(j,end=\"\")\n",
    "    print()\n",
    " \n",
    "    \n",
    "        "
   ]
  },
  {
   "cell_type": "code",
   "execution_count": 2,
   "metadata": {},
   "outputs": [
    {
     "name": "stdout",
     "output_type": "stream",
     "text": [
      "7\n",
      "prime no\n"
     ]
    }
   ],
   "source": [
    "#prime no\n",
    "n = int(input())\n",
    "f =0\n",
    "for i in range(2,n) :\n",
    "    if n%i == 0 :\n",
    "        print(\"not a prime no\")\n",
    "        f=1\n",
    "        break\n",
    "if f==0 :\n",
    "    print(\"prime no\")"
   ]
  },
  {
   "cell_type": "code",
   "execution_count": 4,
   "metadata": {},
   "outputs": [
    {
     "name": "stdout",
     "output_type": "stream",
     "text": [
      "a\n",
      "b\n",
      "c\n",
      "d\n",
      "e\n",
      "f\n",
      "2\n",
      "3\n",
      "4\n",
      "5\n",
      "6\n"
     ]
    }
   ],
   "source": [
    "#fast iteration\n",
    "s=\"abcdef\"\n",
    "for c in s :\n",
    "    print(c)\n",
    "t = (2,3,4,5,6)\n",
    "for c in t :\n",
    "    print(c)"
   ]
  },
  {
   "cell_type": "code",
   "execution_count": 6,
   "metadata": {},
   "outputs": [],
   "source": [
    "def reversestring(s,start,end) :\n",
    "    while(start<end) :\n",
    "        tmp = s[start]\n",
    "        s[start]=s[end]\n",
    "        s[end]=tmp\n",
    "        start=start+1\n",
    "        end=end-1\n",
    "    return \n",
    "        "
   ]
  },
  {
   "cell_type": "code",
   "execution_count": 7,
   "metadata": {},
   "outputs": [
    {
     "name": "stdout",
     "output_type": "stream",
     "text": [
      "hei lhf\n"
     ]
    },
    {
     "ename": "TypeError",
     "evalue": "'str' object does not support item assignment",
     "output_type": "error",
     "traceback": [
      "\u001b[1;31m---------------------------------------------------------------------------\u001b[0m",
      "\u001b[1;31mTypeError\u001b[0m                                 Traceback (most recent call last)",
      "\u001b[1;32m<ipython-input-7-8656d8c8f59f>\u001b[0m in \u001b[0;36m<module>\u001b[1;34m\u001b[0m\n\u001b[0;32m      4\u001b[0m \u001b[1;32mwhile\u001b[0m\u001b[1;33m(\u001b[0m\u001b[0mi\u001b[0m\u001b[1;33m<\u001b[0m\u001b[0mlen\u001b[0m\u001b[1;33m(\u001b[0m\u001b[0ms\u001b[0m\u001b[1;33m)\u001b[0m\u001b[1;33m)\u001b[0m \u001b[1;33m:\u001b[0m\u001b[1;33m\u001b[0m\u001b[1;33m\u001b[0m\u001b[0m\n\u001b[0;32m      5\u001b[0m     \u001b[1;32mif\u001b[0m \u001b[0ms\u001b[0m\u001b[1;33m[\u001b[0m\u001b[0mi\u001b[0m\u001b[1;33m]\u001b[0m \u001b[1;33m==\u001b[0m \u001b[1;34m' '\u001b[0m \u001b[1;33m:\u001b[0m\u001b[1;33m\u001b[0m\u001b[1;33m\u001b[0m\u001b[0m\n\u001b[1;32m----> 6\u001b[1;33m         \u001b[0mreversestring\u001b[0m\u001b[1;33m(\u001b[0m\u001b[0ms\u001b[0m\u001b[1;33m,\u001b[0m\u001b[0mprev\u001b[0m\u001b[1;33m,\u001b[0m\u001b[0mi\u001b[0m\u001b[1;33m-\u001b[0m\u001b[1;36m1\u001b[0m\u001b[1;33m)\u001b[0m\u001b[1;33m\u001b[0m\u001b[1;33m\u001b[0m\u001b[0m\n\u001b[0m\u001b[0;32m      7\u001b[0m         \u001b[0mprev\u001b[0m\u001b[1;33m=\u001b[0m\u001b[0mi\u001b[0m\u001b[1;33m+\u001b[0m\u001b[1;36m1\u001b[0m\u001b[1;33m\u001b[0m\u001b[1;33m\u001b[0m\u001b[0m\n\u001b[0;32m      8\u001b[0m     \u001b[0mi\u001b[0m\u001b[1;33m=\u001b[0m\u001b[0mi\u001b[0m\u001b[1;33m+\u001b[0m\u001b[1;36m1\u001b[0m\u001b[1;33m\u001b[0m\u001b[1;33m\u001b[0m\u001b[0m\n",
      "\u001b[1;32m<ipython-input-6-84398afdbd00>\u001b[0m in \u001b[0;36mreversestring\u001b[1;34m(s, start, end)\u001b[0m\n\u001b[0;32m      2\u001b[0m     \u001b[1;32mwhile\u001b[0m\u001b[1;33m(\u001b[0m\u001b[0mstart\u001b[0m\u001b[1;33m<\u001b[0m\u001b[0mend\u001b[0m\u001b[1;33m)\u001b[0m \u001b[1;33m:\u001b[0m\u001b[1;33m\u001b[0m\u001b[1;33m\u001b[0m\u001b[0m\n\u001b[0;32m      3\u001b[0m         \u001b[0mtmp\u001b[0m \u001b[1;33m=\u001b[0m \u001b[0ms\u001b[0m\u001b[1;33m[\u001b[0m\u001b[0mstart\u001b[0m\u001b[1;33m]\u001b[0m\u001b[1;33m\u001b[0m\u001b[1;33m\u001b[0m\u001b[0m\n\u001b[1;32m----> 4\u001b[1;33m         \u001b[0ms\u001b[0m\u001b[1;33m[\u001b[0m\u001b[0mstart\u001b[0m\u001b[1;33m]\u001b[0m\u001b[1;33m=\u001b[0m\u001b[0ms\u001b[0m\u001b[1;33m[\u001b[0m\u001b[0mend\u001b[0m\u001b[1;33m]\u001b[0m\u001b[1;33m\u001b[0m\u001b[1;33m\u001b[0m\u001b[0m\n\u001b[0m\u001b[0;32m      5\u001b[0m         \u001b[0ms\u001b[0m\u001b[1;33m[\u001b[0m\u001b[0mend\u001b[0m\u001b[1;33m]\u001b[0m\u001b[1;33m=\u001b[0m\u001b[0mtmp\u001b[0m\u001b[1;33m\u001b[0m\u001b[1;33m\u001b[0m\u001b[0m\n\u001b[0;32m      6\u001b[0m         \u001b[0mstart\u001b[0m\u001b[1;33m=\u001b[0m\u001b[0mstart\u001b[0m\u001b[1;33m+\u001b[0m\u001b[1;36m1\u001b[0m\u001b[1;33m\u001b[0m\u001b[1;33m\u001b[0m\u001b[0m\n",
      "\u001b[1;31mTypeError\u001b[0m: 'str' object does not support item assignment"
     ]
    }
   ],
   "source": [
    "s = input()\n",
    "prev = 0\n",
    "i=0\n",
    "while(i<len(s)) :\n",
    "    if s[i] == ' ' :\n",
    "        reversestring(s,prev,i-1)\n",
    "        prev=i+1\n",
    "    i=i+1\n",
    "print(s)"
   ]
  },
  {
   "cell_type": "code",
   "execution_count": 9,
   "metadata": {},
   "outputs": [],
   "source": [
    "#selection sort\n",
    "def solution(a) :\n",
    "    pos=0\n",
    "    min=a[0]\n",
    "    n=len(a)\n",
    "    for i in range(n-1) :\n",
    "        min=a[i]\n",
    "        for j in range(i,n) :\n",
    "            if min>a[j] :\n",
    "                min=a[j]\n",
    "                pos=j\n",
    "        if pos!=i :\n",
    "            tmp=a[pos]\n",
    "            a[pos]=a[i]\n",
    "            a[i]=tmp\n",
    "    return a"
   ]
  },
  {
   "cell_type": "code",
   "execution_count": 10,
   "metadata": {},
   "outputs": [
    {
     "name": "stdout",
     "output_type": "stream",
     "text": [
      "1\n",
      "enter the size5\n",
      "9 6 3 2 0\n",
      "[0, 2, 6, 3, 9]\n"
     ]
    }
   ],
   "source": [
    "t=int(input())\n",
    "i=0\n",
    "while i<t :\n",
    "    s=int(input(\"enter the size\"))\n",
    "    l=[int(x) for x in input().strip().split(' ')]\n",
    "    l=solution(l)\n",
    "    print(l)\n",
    "    i=i+1\n"
   ]
  },
  {
   "cell_type": "markdown",
   "metadata": {},
   "source": [
    "# Array Equilibrium"
   ]
  },
  {
   "cell_type": "code",
   "execution_count": 21,
   "metadata": {},
   "outputs": [],
   "source": [
    "def ans(a) :\n",
    "    lsum=0\n",
    "    rsum=0\n",
    "    l=0\n",
    "    r=len(a)\n",
    "    n=len(a)\n",
    "    for i in range(n) :\n",
    "        lsum=0\n",
    "        rsum=0\n",
    "        if(i==0) :\n",
    "            for j in range(l+1,r) :\n",
    "                rsum+=a[j]\n",
    "            if rsum==0 :\n",
    "                return i\n",
    "        elif i==n-1 :\n",
    "            for j in range(l,r-1) :\n",
    "                lsum+=a[j]\n",
    "            if lsum==0:\n",
    "                return i\n",
    "        else :\n",
    "            for j in range(l,i) :\n",
    "                lsum+=a[j]\n",
    "            for j in range(i+1,r) :\n",
    "                rsum+=a[j]\n",
    "            if lsum==rsum :\n",
    "                return i\n",
    "    return -1"
   ]
  },
  {
   "cell_type": "code",
   "execution_count": 22,
   "metadata": {},
   "outputs": [
    {
     "name": "stdout",
     "output_type": "stream",
     "text": [
      "2\n",
      "3\n",
      "1 4 6\n",
      "-1\n",
      "3\n",
      "1 -1 4\n",
      "2\n"
     ]
    }
   ],
   "source": [
    "t=int(input())\n",
    "i=0\n",
    "while i<t :\n",
    "    s=int(input())\n",
    "    a=[int(x) for x in input().strip().split(\" \")]\n",
    "    res=ans(a)\n",
    "    print(res)\n",
    "    i=i+1"
   ]
  },
  {
   "cell_type": "code",
   "execution_count": 15,
   "metadata": {},
   "outputs": [
    {
     "name": "stdout",
     "output_type": "stream",
     "text": [
      "enter row3\n",
      "enter col3\n",
      "1 2 3 4 5 6 7 8 9\n",
      "[[1, 2, 3], [4, 5, 6], [7, 8, 9]]\n",
      "1 4 7 8 5 2 3 6 9 "
     ]
    }
   ],
   "source": [
    "#wave print\n",
    "r=int(input(\"enter row\"))\n",
    "c=int(input(\"enter col\"))\n",
    "l=[int(i) for i in input().strip().split(\" \")]\n",
    "l\n",
    "out=[]\n",
    "out=[[l[i*c+j] for j in range(c)] for i in range(r)]\n",
    "print(out)\n",
    "b=True\n",
    "for i in range(c) :\n",
    "    for  j in range(r) :\n",
    "        if(i%2==0) :\n",
    "            print(out[j][i],end=\" \")\n",
    "        else :\n",
    "            print(out[r-j-1][i],end=\" \")\n",
    "#     print(\"\")\n",
    "        "
   ]
  },
  {
   "cell_type": "markdown",
   "metadata": {},
   "source": []
  }
 ],
 "metadata": {
  "kernelspec": {
   "display_name": "Python 3",
   "language": "python",
   "name": "python3"
  },
  "language_info": {
   "codemirror_mode": {
    "name": "ipython",
    "version": 3
   },
   "file_extension": ".py",
   "mimetype": "text/x-python",
   "name": "python",
   "nbconvert_exporter": "python",
   "pygments_lexer": "ipython3",
   "version": "3.7.4"
  }
 },
 "nbformat": 4,
 "nbformat_minor": 5
}
