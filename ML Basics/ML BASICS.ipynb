{
 "cells": [
  {
   "cell_type": "code",
   "execution_count": 1,
   "id": "dab21ccb",
   "metadata": {},
   "outputs": [],
   "source": [
    "a = 10"
   ]
  },
  {
   "cell_type": "code",
   "execution_count": 2,
   "id": "22526518",
   "metadata": {},
   "outputs": [
    {
     "data": {
      "text/plain": [
       "10"
      ]
     },
     "execution_count": 2,
     "metadata": {},
     "output_type": "execute_result"
    }
   ],
   "source": [
    "a"
   ]
  },
  {
   "cell_type": "markdown",
   "id": "b44e71f7",
   "metadata": {},
   "source": [
    "hare krishna starting with ml course"
   ]
  },
  {
   "cell_type": "markdown",
   "id": "e351b559",
   "metadata": {},
   "source": [
    "## Text over here"
   ]
  },
  {
   "cell_type": "markdown",
   "id": "cab195f0",
   "metadata": {},
   "source": [
    "# <font color = \"green\"> Text over here</font>"
   ]
  },
  {
   "cell_type": "markdown",
   "id": "2be06df6",
   "metadata": {},
   "source": [
    "# ## NUMPY tutorial"
   ]
  },
  {
   "cell_type": "code",
   "execution_count": 7,
   "id": "0136c033",
   "metadata": {},
   "outputs": [],
   "source": [
    "import numpy as np"
   ]
  },
  {
   "cell_type": "code",
   "execution_count": 11,
   "id": "315e1f6c",
   "metadata": {},
   "outputs": [],
   "source": [
    "#making a numpy array from python list\n",
    "a = [2,4,6,8,10]\n",
    "arr = np.array(a)"
   ]
  },
  {
   "cell_type": "code",
   "execution_count": 13,
   "id": "b51e6241",
   "metadata": {},
   "outputs": [
    {
     "data": {
      "text/plain": [
       "array([ 2,  4,  6,  8, 10])"
      ]
     },
     "execution_count": 13,
     "metadata": {},
     "output_type": "execute_result"
    }
   ],
   "source": [
    "arr"
   ]
  },
  {
   "cell_type": "code",
   "execution_count": 16,
   "id": "3d437d05",
   "metadata": {},
   "outputs": [
    {
     "data": {
      "text/plain": [
       "numpy.ndarray"
      ]
     },
     "execution_count": 16,
     "metadata": {},
     "output_type": "execute_result"
    }
   ],
   "source": [
    "type(a)\n",
    "\n",
    "type(arr)"
   ]
  },
  {
   "cell_type": "code",
   "execution_count": 18,
   "id": "1bdb1672",
   "metadata": {},
   "outputs": [
    {
     "data": {
      "text/plain": [
       "array([ 3,  5,  7,  9, 11])"
      ]
     },
     "execution_count": 18,
     "metadata": {},
     "output_type": "execute_result"
    }
   ],
   "source": [
    "#in numpy array we can apply mathematical operations \n",
    "# a+1 this gives error as it is array\n",
    "arr+1 # this will add 1 to each and every element"
   ]
  },
  {
   "cell_type": "code",
   "execution_count": 19,
   "id": "f2134d52",
   "metadata": {},
   "outputs": [],
   "source": [
    "# 2 d array using list\n",
    "b = [[1,2,3,4],\n",
    "    [4,5,6,7]]"
   ]
  },
  {
   "cell_type": "code",
   "execution_count": 22,
   "id": "8c85e6d6",
   "metadata": {},
   "outputs": [],
   "source": [
    "twod = np.array(b)"
   ]
  },
  {
   "cell_type": "code",
   "execution_count": 23,
   "id": "626c6bb9",
   "metadata": {},
   "outputs": [
    {
     "data": {
      "text/plain": [
       "array([[1, 2, 3, 4],\n",
       "       [4, 5, 6, 7]])"
      ]
     },
     "execution_count": 23,
     "metadata": {},
     "output_type": "execute_result"
    }
   ],
   "source": [
    "twod"
   ]
  },
  {
   "cell_type": "code",
   "execution_count": 24,
   "id": "89db0224",
   "metadata": {},
   "outputs": [],
   "source": [
    "# to convert the values in float\n",
    "twod = np.array(b,dtype='float')"
   ]
  },
  {
   "cell_type": "code",
   "execution_count": 25,
   "id": "5b8ec885",
   "metadata": {},
   "outputs": [
    {
     "data": {
      "text/plain": [
       "array([[1., 2., 3., 4.],\n",
       "       [4., 5., 6., 7.]])"
      ]
     },
     "execution_count": 25,
     "metadata": {},
     "output_type": "execute_result"
    }
   ],
   "source": [
    "twod"
   ]
  },
  {
   "cell_type": "code",
   "execution_count": 26,
   "id": "6342df02",
   "metadata": {},
   "outputs": [],
   "source": [
    "arr2 = twod.astype('int')"
   ]
  },
  {
   "cell_type": "code",
   "execution_count": 27,
   "id": "42b2c922",
   "metadata": {},
   "outputs": [
    {
     "data": {
      "text/plain": [
       "array([[1, 2, 3, 4],\n",
       "       [4, 5, 6, 7]])"
      ]
     },
     "execution_count": 27,
     "metadata": {},
     "output_type": "execute_result"
    }
   ],
   "source": [
    "arr2"
   ]
  },
  {
   "cell_type": "code",
   "execution_count": 29,
   "id": "65cf2cf6",
   "metadata": {},
   "outputs": [],
   "source": [
    "arr2 = np.array(b,dtype='bool')"
   ]
  },
  {
   "cell_type": "code",
   "execution_count": 30,
   "id": "45960df3",
   "metadata": {},
   "outputs": [
    {
     "data": {
      "text/plain": [
       "array([[ True,  True,  True,  True],\n",
       "       [ True,  True,  True,  True]])"
      ]
     },
     "execution_count": 30,
     "metadata": {},
     "output_type": "execute_result"
    }
   ],
   "source": [
    "arr2"
   ]
  },
  {
   "cell_type": "code",
   "execution_count": 31,
   "id": "575c10ee",
   "metadata": {},
   "outputs": [],
   "source": [
    "arr5 = np.array([0.5,'y'],dtype='object')"
   ]
  },
  {
   "cell_type": "code",
   "execution_count": 32,
   "id": "542a76a8",
   "metadata": {},
   "outputs": [
    {
     "data": {
      "text/plain": [
       "array([0.5, 'y'], dtype=object)"
      ]
     },
     "execution_count": 32,
     "metadata": {},
     "output_type": "execute_result"
    }
   ],
   "source": [
    "arr5"
   ]
  },
  {
   "cell_type": "code",
   "execution_count": 33,
   "id": "5dac3f9b",
   "metadata": {},
   "outputs": [],
   "source": [
    "list = arr5.tolist()"
   ]
  },
  {
   "cell_type": "code",
   "execution_count": 34,
   "id": "d707fff1",
   "metadata": {},
   "outputs": [
    {
     "data": {
      "text/plain": [
       "[0.5, 'y']"
      ]
     },
     "execution_count": 34,
     "metadata": {},
     "output_type": "execute_result"
    }
   ],
   "source": [
    "list"
   ]
  },
  {
   "cell_type": "markdown",
   "id": "741e2ec9",
   "metadata": {},
   "source": [
    "### Array Dimession"
   ]
  },
  {
   "cell_type": "code",
   "execution_count": 45,
   "id": "968d1067",
   "metadata": {},
   "outputs": [],
   "source": [
    "arr5 = twod.tolist()"
   ]
  },
  {
   "cell_type": "code",
   "execution_count": 48,
   "id": "0bf4d2d6",
   "metadata": {},
   "outputs": [
    {
     "data": {
      "text/plain": [
       "list"
      ]
     },
     "execution_count": 48,
     "metadata": {},
     "output_type": "execute_result"
    }
   ],
   "source": [
    "arr5\n",
    "type(arr5)"
   ]
  },
  {
   "cell_type": "code",
   "execution_count": 51,
   "id": "738460d8",
   "metadata": {},
   "outputs": [
    {
     "data": {
      "text/plain": [
       "(2, 4)"
      ]
     },
     "execution_count": 51,
     "metadata": {},
     "output_type": "execute_result"
    }
   ],
   "source": [
    "# only numpy array return for shape not list\n",
    "twod.shape"
   ]
  },
  {
   "cell_type": "code",
   "execution_count": 52,
   "id": "2cdf6442",
   "metadata": {},
   "outputs": [
    {
     "data": {
      "text/plain": [
       "dtype('float64')"
      ]
     },
     "execution_count": 52,
     "metadata": {},
     "output_type": "execute_result"
    }
   ],
   "source": [
    "# this tells us the elements stored in nparray\n",
    "twod.dtype"
   ]
  },
  {
   "cell_type": "code",
   "execution_count": 53,
   "id": "5b24e56a",
   "metadata": {},
   "outputs": [
    {
     "data": {
      "text/plain": [
       "2"
      ]
     },
     "execution_count": 53,
     "metadata": {},
     "output_type": "execute_result"
    }
   ],
   "source": [
    "# this tells us the dimension of nparray here in this case it is 2 dimension \n",
    "twod.ndim"
   ]
  },
  {
   "cell_type": "markdown",
   "id": "f2b629f1",
   "metadata": {},
   "source": [
    "Reversing rows and columns"
   ]
  },
  {
   "cell_type": "code",
   "execution_count": 54,
   "id": "d55b2462",
   "metadata": {},
   "outputs": [
    {
     "data": {
      "text/plain": [
       "array([[4., 5., 6., 7.],\n",
       "       [1., 2., 3., 4.]])"
      ]
     },
     "execution_count": 54,
     "metadata": {},
     "output_type": "execute_result"
    }
   ],
   "source": [
    "# this will reverse the array in rows wise for columns wise see below cell syntax\n",
    "twod[::-1]"
   ]
  },
  {
   "cell_type": "code",
   "execution_count": 55,
   "id": "43fdca5e",
   "metadata": {},
   "outputs": [
    {
     "data": {
      "text/plain": [
       "array([[7., 6., 5., 4.],\n",
       "       [4., 3., 2., 1.]])"
      ]
     },
     "execution_count": 55,
     "metadata": {},
     "output_type": "execute_result"
    }
   ],
   "source": [
    "twod[::-1,::-1]"
   ]
  },
  {
   "cell_type": "code",
   "execution_count": 56,
   "id": "bd08d49b",
   "metadata": {},
   "outputs": [
    {
     "data": {
      "text/plain": [
       "array([[1., 2., 3., 4.],\n",
       "       [4., 5., 6., 7.]])"
      ]
     },
     "execution_count": 56,
     "metadata": {},
     "output_type": "execute_result"
    }
   ],
   "source": [
    "twod"
   ]
  },
  {
   "cell_type": "markdown",
   "id": "35e8f8da",
   "metadata": {},
   "source": [
    "specific element extraction"
   ]
  },
  {
   "cell_type": "code",
   "execution_count": null,
   "id": "37b8a04b",
   "metadata": {},
   "outputs": [],
   "source": []
  }
 ],
 "metadata": {
  "kernelspec": {
   "display_name": "Python 3 (ipykernel)",
   "language": "python",
   "name": "python3"
  },
  "language_info": {
   "codemirror_mode": {
    "name": "ipython",
    "version": 3
   },
   "file_extension": ".py",
   "mimetype": "text/x-python",
   "name": "python",
   "nbconvert_exporter": "python",
   "pygments_lexer": "ipython3",
   "version": "3.9.7"
  }
 },
 "nbformat": 4,
 "nbformat_minor": 5
}
