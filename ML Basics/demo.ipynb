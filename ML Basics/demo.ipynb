{
 "cells": [
  {
   "cell_type": "code",
   "execution_count": 1,
   "metadata": {},
   "outputs": [
    {
     "name": "stdout",
     "output_type": "stream",
     "text": [
      "hare krishna\n"
     ]
    }
   ],
   "source": [
    "print(\"hare krishna\")"
   ]
  },
  {
   "cell_type": "markdown",
   "metadata": {},
   "source": [
    "hare krishna"
   ]
  },
  {
   "cell_type": "markdown",
   "metadata": {},
   "source": [
    "demo markdown"
   ]
  },
  {
   "cell_type": "code",
   "execution_count": 9,
   "metadata": {},
   "outputs": [
    {
     "ename": "SyntaxError",
     "evalue": "invalid syntax (Temp/ipykernel_10888/3497788149.py, line 1)",
     "output_type": "error",
     "traceback": [
      "\u001b[1;36m  File \u001b[1;32m\"C:\\Users\\SOURAV~1\\AppData\\Local\\Temp/ipykernel_10888/3497788149.py\"\u001b[1;36m, line \u001b[1;32m1\u001b[0m\n\u001b[1;33m    23abc = 234\u001b[0m\n\u001b[1;37m      ^\u001b[0m\n\u001b[1;31mSyntaxError\u001b[0m\u001b[1;31m:\u001b[0m invalid syntax\n"
     ]
    }
   ],
   "source": [
    "23abc = 234"
   ]
  },
  {
   "cell_type": "code",
   "execution_count": 11,
   "metadata": {},
   "outputs": [
    {
     "name": "stdout",
     "output_type": "stream",
     "text": [
      "['False', 'None', 'True', '__peg_parser__', 'and', 'as', 'assert', 'async', 'await', 'break', 'class', 'continue', 'def', 'del', 'elif', 'else', 'except', 'finally', 'for', 'from', 'global', 'if', 'import', 'in', 'is', 'lambda', 'nonlocal', 'not', 'or', 'pass', 'raise', 'return', 'try', 'while', 'with', 'yield']\n"
     ]
    }
   ],
   "source": [
    "import keyword\n",
    "print(keyword.kwlist)\n",
    "print(\"the total no of keywords are \",len(keyword.kwlist))"
   ]
  },
  {
   "cell_type": "code",
   "execution_count": 14,
   "metadata": {},
   "outputs": [
    {
     "ename": "SyntaxError",
     "evalue": "invalid syntax (Temp/ipykernel_10888/1138322406.py, line 1)",
     "output_type": "error",
     "traceback": [
      "\u001b[1;36m  File \u001b[1;32m\"C:\\Users\\SOURAV~1\\AppData\\Local\\Temp/ipykernel_10888/1138322406.py\"\u001b[1;36m, line \u001b[1;32m1\u001b[0m\n\u001b[1;33m    8a = 'hare krishna'\u001b[0m\n\u001b[1;37m     ^\u001b[0m\n\u001b[1;31mSyntaxError\u001b[0m\u001b[1;31m:\u001b[0m invalid syntax\n"
     ]
    }
   ],
   "source": [
    "8a = 'hare krishna'"
   ]
  },
  {
   "cell_type": "code",
   "execution_count": 16,
   "metadata": {},
   "outputs": [
    {
     "name": "stdout",
     "output_type": "stream",
     "text": [
      "hare krishna \n",
      "hare ram\n",
      "hare krishna\n",
      "hare ram\n"
     ]
    }
   ],
   "source": [
    "if True : print(\"hare krishna \") ; print(\"hare ram\")\n",
    "if True : \n",
    "    print(\"hare krishna\") \n",
    "    print(\"hare ram\")\n",
    "# Two of writing if statements "
   ]
  },
  {
   "cell_type": "code",
   "execution_count": 18,
   "metadata": {},
   "outputs": [
    {
     "name": "stdout",
     "output_type": "stream",
     "text": [
      "22   22\n"
     ]
    }
   ],
   "source": [
    "a =  1 + 2 + 3 + \\\n",
    "     4 + 3 + \\\n",
    "     7 + 2\n",
    "a\n",
    "# it is multiline statement  \n",
    "b = (  1 + 3 + \n",
    "       8 + 2 +\n",
    "       8 )\n",
    "print(a,\" \",b)"
   ]
  },
  {
   "cell_type": "code",
   "execution_count": 19,
   "metadata": {},
   "outputs": [],
   "source": [
    "a = 10 ; b= 20 ; c = 30 #multiple lines in single line  "
   ]
  },
  {
   "cell_type": "code",
   "execution_count": 20,
   "metadata": {},
   "outputs": [
    {
     "data": {
      "text/plain": [
       "60"
      ]
     },
     "execution_count": 20,
     "metadata": {},
     "output_type": "execute_result"
    }
   ],
   "source": [
    "a+b+c"
   ]
  },
  {
   "cell_type": "code",
   "execution_count": 23,
   "metadata": {},
   "outputs": [
    {
     "name": "stdout",
     "output_type": "stream",
     "text": [
      "10   3.2   sourav\n",
      "jai ho   jai ho   jai ho\n"
     ]
    }
   ],
   "source": [
    "# multiple assignment\n",
    "a,b,c = 10,3.2,\"sourav\"\n",
    "d=f=g=\"jai ho\"\n",
    "print(a,\" \",b,\" \",c)\n",
    "print(d,\" \",f,\" \",g)"
   ]
  },
  {
   "cell_type": "code",
   "execution_count": 30,
   "metadata": {},
   "outputs": [
    {
     "name": "stdout",
     "output_type": "stream",
     "text": [
      "2  is a type of  <class 'int'>\n",
      "(5+8j)  is a type of  (5+8j)\n",
      "True\n",
      "False\n"
     ]
    }
   ],
   "source": [
    " a = 2\n",
    " print(a, \" is a type of \",type(a))\n",
    " b = 5 + 8j\n",
    " print(b,\" is a type of \",b)\n",
    " print(isinstance(5+8j,complex)) #isinstance is used to  check datatype and match it with the value \n",
    "#  type()  function show the  type data it is \n",
    "a = False\n",
    "print(a)"
   ]
  },
  {
   "cell_type": "code",
   "execution_count": 35,
   "metadata": {},
   "outputs": [
    {
     "name": "stdout",
     "output_type": "stream",
     "text": [
      "t\n",
      "t\n"
     ]
    }
   ],
   "source": [
    "s = \"placement\"\n",
    "print(s[len(s)-1])\n",
    "print(s[-1])"
   ]
  },
  {
   "cell_type": "code",
   "execution_count": null,
   "metadata": {},
   "outputs": [],
   "source": []
  }
 ],
 "metadata": {
  "interpreter": {
   "hash": "341dd1e935fb087f1fcc03e072ea835a3788c5dea01a8085139d12a82126441a"
  },
  "kernelspec": {
   "display_name": "Python 3.9.7 64-bit ('base': conda)",
   "language": "python",
   "name": "python3"
  },
  "language_info": {
   "codemirror_mode": {
    "name": "ipython",
    "version": 3
   },
   "file_extension": ".py",
   "mimetype": "text/x-python",
   "name": "python",
   "nbconvert_exporter": "python",
   "pygments_lexer": "ipython3",
   "version": "3.9.7"
  },
  "orig_nbformat": 4
 },
 "nbformat": 4,
 "nbformat_minor": 2
}
