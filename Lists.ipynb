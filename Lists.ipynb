{
 "cells": [
  {
   "cell_type": "markdown",
   "metadata": {},
   "source": [
    "list are just like arrays in c++\n",
    "list are mutable"
   ]
  },
  {
   "cell_type": "code",
   "execution_count": 3,
   "metadata": {},
   "outputs": [
    {
     "name": "stdout",
     "output_type": "stream",
     "text": [
      "<class 'list'>\n",
      "<class 'list'>\n"
     ]
    },
    {
     "data": {
      "text/plain": [
       "[1, 2, 3]"
      ]
     },
     "execution_count": 3,
     "metadata": {},
     "output_type": "execute_result"
    }
   ],
   "source": [
    "l = [1,2,3]\n",
    "print(type(l))\n",
    "a = list()             #creating empty list\n",
    "print(type(a))\n",
    "a = list(l)     #creates copy of l in a\n",
    "a"
   ]
  },
  {
   "cell_type": "code",
   "execution_count": 7,
   "metadata": {},
   "outputs": [
    {
     "data": {
      "text/plain": [
       "[0, 1, 4, 9, 16, 25, 36, 49, 64, 81]"
      ]
     },
     "execution_count": 7,
     "metadata": {},
     "output_type": "execute_result"
    }
   ],
   "source": [
    "l = [ i  for i in range(10)]\n",
    "l              #in list puts elements from 0 to 9\n",
    "\n",
    "l = [ i*i for i in range(10)]\n",
    "l                           #we will get the squares in the list"
   ]
  },
  {
   "cell_type": "code",
   "execution_count": 8,
   "metadata": {},
   "outputs": [
    {
     "name": "stdout",
     "output_type": "stream",
     "text": [
      "1 2 3 4 \n"
     ]
    },
    {
     "data": {
      "text/plain": [
       "['1', '2', '3', '4', '']"
      ]
     },
     "execution_count": 8,
     "metadata": {},
     "output_type": "execute_result"
    }
   ],
   "source": [
    "#user input\n",
    "str = input()\n",
    "str.split(' ')"
   ]
  },
  {
   "cell_type": "code",
   "execution_count": 10,
   "metadata": {},
   "outputs": [
    {
     "name": "stdout",
     "output_type": "stream",
     "text": [
      "1 2 3 4 5\n"
     ]
    },
    {
     "data": {
      "text/plain": [
       "[1, 2, 3, 4, 5]"
      ]
     },
     "execution_count": 10,
     "metadata": {},
     "output_type": "execute_result"
    }
   ],
   "source": [
    "str = input().strip()   #remove front and back space\n",
    "list = str.split(\" \")    \n",
    "list  #list element are still strings\n",
    "for i in range(0,len(list)) :\n",
    "    list[i]=int(list[i])\n",
    "list      #got list elements in integers"
   ]
  },
  {
   "cell_type": "code",
   "execution_count": 13,
   "metadata": {},
   "outputs": [
    {
     "name": "stdout",
     "output_type": "stream",
     "text": [
      "1 2 3 4 5\n"
     ]
    },
    {
     "data": {
      "text/plain": [
       "[1, 2, 3, 4, 5]"
      ]
     },
     "execution_count": 13,
     "metadata": {},
     "output_type": "execute_result"
    }
   ],
   "source": [
    "#one line for taking input\n",
    "list = [int(x) for x in input().strip().split(' ')]\n",
    "list"
   ]
  },
  {
   "cell_type": "code",
   "execution_count": 18,
   "metadata": {},
   "outputs": [
    {
     "data": {
      "text/plain": [
       "[1, 24, 2, 3, 4, 5, 6, 7]"
      ]
     },
     "execution_count": 18,
     "metadata": {},
     "output_type": "execute_result"
    }
   ],
   "source": [
    "#insert elements in list\n",
    "l=[1,2,3]\n",
    "l.append(4)\n",
    "l\n",
    "l.insert(1,24)   #inserting are position 1 rest all will shift right\n",
    "l\n",
    "l2=[5,6,7]\n",
    "l.extend(l2)     #add two list\n",
    "l"
   ]
  },
  {
   "cell_type": "code",
   "execution_count": 26,
   "metadata": {},
   "outputs": [
    {
     "name": "stdout",
     "output_type": "stream",
     "text": [
      "[1, 2, 3, 4]\n",
      "[3, 1, 3, 2, 4]\n"
     ]
    },
    {
     "data": {
      "text/plain": [
       "[4]"
      ]
     },
     "execution_count": 26,
     "metadata": {},
     "output_type": "execute_result"
    }
   ],
   "source": [
    "#delete elements in list\n",
    "l=[1,2,3,4,5]\n",
    "l.pop() #removes last element\n",
    "print(l)\n",
    "l.pop(2) # removes 2 index\n",
    "l.insert(0,3)\n",
    "l.insert(2,3)\n",
    "print(l)\n",
    "l.remove(3)  #removes 3 from list and and only the first ocrrances of it\n",
    "del l[0] #removes first index of list\n",
    "del l[0:2] #delete element from 0 to 1\n",
    "l"
   ]
  },
  {
   "cell_type": "code",
   "execution_count": 34,
   "metadata": {},
   "outputs": [
    {
     "name": "stdout",
     "output_type": "stream",
     "text": [
      "[1, 2, 3, 4, 4, 1, 2, 3, 4, 4]\n",
      "[1, 2, 3, 4, 4, 1, 2, 3, 4, 4, 1, 2, 3, 4, 4, 1, 2, 3, 4, 4, 1, 2, 3, 4, 4, 1, 2, 3, 4, 4]\n",
      "6\n",
      "[4, 4, 4, 4, 4, 4, 4, 4, 4, 4, 4, 4, 3, 3, 3, 3, 3, 3, 2, 2, 2, 2, 2, 2, 1, 1, 1, 1, 1, 1]\n",
      "found\n"
     ]
    }
   ],
   "source": [
    "#some function with list\n",
    "l=[1,2,3,4,4]\n",
    "l=l+l\n",
    "print(l)\n",
    "l=l*3         #concat 3 times\n",
    "print(l)\n",
    "# l = l+3  #is wrong\n",
    "l.sort()   #will sort the list\n",
    "print(l.count(2))   #counts no of 2\n",
    "l.reverse()    #reverse the list\n",
    "print(l)\n",
    "\n",
    "#to search in list\n",
    "if 4 in l :\n",
    "    print(\"found\")\n",
    "else :\n",
    "    print(\"not found\")"
   ]
  },
  {
   "cell_type": "code",
   "execution_count": 47,
   "metadata": {},
   "outputs": [
    {
     "data": {
      "text/plain": [
       "[1, 2, 3, 5, 6, 7]"
      ]
     },
     "execution_count": 47,
     "metadata": {},
     "output_type": "execute_result"
    }
   ],
   "source": [
    "#bubble sort\n",
    "l=[5,3,2,1,6,7]\n",
    "n=len(l)\n",
    "for i in range(n-1) :\n",
    "    for j in range(0,n-1-i) :\n",
    "#         print(\"hare krishna\")\n",
    "        if l[j]>l[j+1] :\n",
    "            tmp=l[j+1]\n",
    "            l[j+1]=l[j]\n",
    "            l[j]=tmp\n",
    "l"
   ]
  },
  {
   "cell_type": "code",
   "execution_count": null,
   "metadata": {},
   "outputs": [],
   "source": [
    "#selection sort\n",
    "def solution(a) :\n",
    "    pos=0\n",
    "    min=a[0]\n",
    "    n=len(a)\n",
    "    for i in range(n-1) :\n",
    "        min=a[i]\n",
    "        for j in range(i,n-1) :\n",
    "            if min>a[j] :\n",
    "                min=a[j]\n",
    "                pos=j\n",
    "        if pos!=i :\n",
    "            tmp=a[pos]\n",
    "            a[pos]=a[i]\n",
    "            a[i]=pos\n",
    "    return a"
   ]
  },
  {
   "cell_type": "code",
   "execution_count": null,
   "metadata": {},
   "outputs": [],
   "source": [
    "t=int(input())\n",
    "i=0\n",
    "while i<t :\n",
    "    l=[int(x) for x in input().strip().split(' ')]\n",
    "    l=solution(l)\n",
    "    print(l)\n",
    "    i=i+1\n"
   ]
  },
  {
   "cell_type": "code",
   "execution_count": null,
   "metadata": {},
   "outputs": [],
   "source": []
  },
  {
   "cell_type": "code",
   "execution_count": null,
   "metadata": {},
   "outputs": [],
   "source": []
  }
 ],
 "metadata": {
  "kernelspec": {
   "display_name": "Python 3",
   "language": "python",
   "name": "python3"
  },
  "language_info": {
   "codemirror_mode": {
    "name": "ipython",
    "version": 3
   },
   "file_extension": ".py",
   "mimetype": "text/x-python",
   "name": "python",
   "nbconvert_exporter": "python",
   "pygments_lexer": "ipython3",
   "version": "3.7.4"
  }
 },
 "nbformat": 4,
 "nbformat_minor": 2
}
